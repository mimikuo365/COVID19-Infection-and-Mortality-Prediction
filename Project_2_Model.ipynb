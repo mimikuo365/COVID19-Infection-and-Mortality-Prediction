{
 "cells": [
  {
   "cell_type": "markdown",
   "metadata": {
    "id": "p2a0gPIaoEKz"
   },
   "source": [
    "# Current Assumption\n",
    "1. Drop time\n",
    "2. Need to double check if mean is calculated right"
   ]
  },
  {
   "cell_type": "markdown",
   "metadata": {
    "id": "T7Pj1DMeS5vi"
   },
   "source": [
    "# Setup"
   ]
  },
  {
   "cell_type": "markdown",
   "metadata": {
    "id": "WyMhlUp68dJ3"
   },
   "source": [
    "https://scikit-learn.org/stable/auto_examples/model_selection/plot_precision_recall.html"
   ]
  },
  {
   "cell_type": "code",
   "execution_count": 1,
   "metadata": {
    "id": "8HMrrwLot9BX"
   },
   "outputs": [],
   "source": [
    "import numpy as np\n",
    "from decimal import *\n",
    "import pandas as pd\n",
    "from sklearn import preprocessing\n",
    "from sklearn.preprocessing import StandardScaler\n",
    "from sklearn import svm\n",
    "from sklearn.svm import SVC\n",
    "from sklearn.pipeline import Pipeline\n",
    "from sklearn.metrics import f1_score\n",
    "from sklearn.metrics import recall_score\n",
    "from sklearn.metrics import precision_score\n",
    "import warnings\n",
    "warnings.filterwarnings('ignore')  # \"error\", \"ignore\", \"always\", \"default\", \"module\" or \"once\""
   ]
  },
  {
   "cell_type": "markdown",
   "metadata": {
    "id": "Gm5oZcrRNPbX"
   },
   "source": [
    "# Preprocess\n"
   ]
  },
  {
   "cell_type": "code",
   "execution_count": 2,
   "metadata": {
    "id": "JNsUk3REzJf6"
   },
   "outputs": [],
   "source": [
    "# seperate columns into two groups \n",
    "#   1. fr_column: use most frequent value\n",
    "#   2. mediam_column: use mediam\n",
    "def preprocess(df, filename):\n",
    "  Patient_id = []\n",
    "  df = df.drop(columns=['admission_datetime'])\n",
    "  column_list = df.columns.tolist()\n",
    "  fr_column = []\n",
    "  mediam_column = []\n",
    "  for c in column_list:\n",
    "    if df[c].isnull().values.any():\n",
    "      if (c.startswith('pmhx_')):\n",
    "        fr_column.append(c)\n",
    "      else:\n",
    "        mediam_column.append(c)\n",
    "\n",
    "  # Turn the list to dictionary\n",
    "  fr_dictionary = dict.fromkeys(fr_column, -1)\n",
    "  mediam_dictionary = dict.fromkeys(mediam_column, -1)\n",
    "\n",
    "  for c in fr_column:\n",
    "    max_value = max_fr = 0\n",
    "    counts = df[c].value_counts().to_dict()    \n",
    "    for value in counts:\n",
    "      if counts[value] > max_fr:\n",
    "        max_fr = counts[value]\n",
    "        max_value = value\n",
    "    fr_dictionary[c] = max_value\n",
    "    df[c] = df[c].replace(np.nan, fr_dictionary[c])\n",
    "\n",
    "  for c in mediam_column:\n",
    "    mediam = df[c].median(axis = 0, skipna = True) \n",
    "    mediam_dictionary[c] = round(mediam, 2)\n",
    "    df[c] = df[c].replace(np.nan, mediam_dictionary[c])\n",
    "\n",
    "  df_name = filename + '_Filled.csv'\n",
    "  df.to_csv(path + df_name, index = False)\n",
    "  \n",
    "  # one hot vector for sex and ed_diagnosis\n",
    "  df = pd.read_csv(path + df_name)\n",
    "  data_dum = pd.get_dummies(df, prefix=['s', 'd'], columns=['sex', 'ed_diagnosis'])\n",
    "  df = pd.DataFrame(data_dum)\n",
    "  \n",
    "  if filename == '\\\\Train':\n",
    "    df = df.drop(columns=['PATIENT ID', 'hospital_outcome']) # drop attr['hospital_outcome'] in X\n",
    "  elif filename == '\\\\fixed_test':\n",
    "    Patient_id = df['PATIENT ID'].tolist()\n",
    "    df = df.drop(columns=['PATIENT ID'])\n",
    "  df_name = filename + '_Onehot.csv'\n",
    "  df.to_csv(path + df_name, index = False)  \n",
    "  return Patient_id"
   ]
  },
  {
   "cell_type": "code",
   "execution_count": 3,
   "metadata": {},
   "outputs": [
    {
     "name": "stdout",
     "output_type": "stream",
     "text": [
      "C:\\Users\\Mimi\\Desktop\\107062274_郭冠廷\n"
     ]
    }
   ],
   "source": [
    "import os \n",
    "path = os.getcwd()\n",
    "print(path)"
   ]
  },
  {
   "cell_type": "code",
   "execution_count": 4,
   "metadata": {
    "colab": {
     "base_uri": "https://localhost:8080/"
    },
    "id": "V5r-HR-7wGNH",
    "outputId": "c75caae9-a5c0-470b-b0aa-9b3f3242bfc3"
   },
   "outputs": [
    {
     "data": {
      "text/plain": [
       "[]"
      ]
     },
     "execution_count": 4,
     "metadata": {},
     "output_type": "execute_result"
    }
   ],
   "source": [
    "attr = pd.read_csv(path + '\\\\hm_hospitales_covid_structured_30d_train.csv')\n",
    "label = pd.read_csv(path + '\\\\split_train_export_30d.csv')\n",
    "\n",
    "# merge two csv files using patient ID\n",
    "attr = pd.merge(attr, label, on='PATIENT ID')\n",
    "\n",
    "# save df['hospital_outcome'] as label\n",
    "label = attr['hospital_outcome']\n",
    "attr.to_csv(path + '\\\\Train_Joined.csv', index = False)\n",
    "preprocess(attr, '\\\\Train')"
   ]
  },
  {
   "cell_type": "markdown",
   "metadata": {
    "id": "vjz4HhYYrNQB"
   },
   "source": [
    "## This model"
   ]
  },
  {
   "cell_type": "code",
   "execution_count": 6,
   "metadata": {
    "colab": {
     "base_uri": "https://localhost:8080/"
    },
    "id": "Gn4JuC-UwFnP",
    "outputId": "588fc511-0ade-44d2-eef2-eb6848b588ea"
   },
   "outputs": [
    {
     "name": "stdout",
     "output_type": "stream",
     "text": [
      "(1834, 51)\n"
     ]
    }
   ],
   "source": [
    "from sklearn.model_selection import cross_validate\n",
    "from sklearn.model_selection import StratifiedKFold, KFold\n",
    "features = pd.read_csv(path + '\\\\Train_Onehot.csv')\n",
    "skf = StratifiedKFold(n_splits=10)\n",
    "scaler = StandardScaler()\n",
    "features = scaler.fit_transform(features)\n",
    "print(features.shape)\n",
    "svc = SVC(class_weight='balanced', C=7, gamma=0.0001, kernel='sigmoid')\n",
    "model = Pipeline([('scaler', StandardScaler()), ('svc', svc)])\n",
    "scores = cross_validate(svc, features, label, cv=skf, scoring=['recall', 'precision', 'f1'], n_jobs=-1) # n_job=-1 means use every core\n",
    "xfinal = pd.read_csv(path + '\\\\fixed_test.csv')\n",
    "Patient_id = preprocess(xfinal, '\\\\fixed_test')\n",
    "svc.fit(features, label)\n",
    "xfinal_final = pd.read_csv(path + '\\\\fixed_test_Onehot.csv')\n",
    "xfinal_final = scaler.transform(xfinal_final)\n",
    "yfinal = svc.predict(xfinal_final)\n",
    "df= pd.DataFrame(columns = ['PATIENT ID', 'hospital_outcome'])\n",
    "df['PATIENT ID'] = Patient_id\n",
    "df['hospital_outcome'] = yfinal\n",
    "df.to_csv(path + '\\\\107062274.csv', index = False)"
   ]
  },
  {
   "cell_type": "code",
   "execution_count": null,
   "metadata": {
    "id": "S-ayDcrg0OVJ"
   },
   "outputs": [],
   "source": []
  }
 ],
 "metadata": {
  "colab": {
   "collapsed_sections": [
    "T7Pj1DMeS5vi",
    "Gm5oZcrRNPbX"
   ],
   "name": "HW2.ipynb",
   "provenance": []
  },
  "kernelspec": {
   "display_name": "Python 3",
   "language": "python",
   "name": "python3"
  },
  "language_info": {
   "codemirror_mode": {
    "name": "ipython",
    "version": 3
   },
   "file_extension": ".py",
   "mimetype": "text/x-python",
   "name": "python",
   "nbconvert_exporter": "python",
   "pygments_lexer": "ipython3",
   "version": "3.7.4"
  }
 },
 "nbformat": 4,
 "nbformat_minor": 1
}
