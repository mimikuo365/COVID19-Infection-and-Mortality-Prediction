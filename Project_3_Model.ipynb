{
  "nbformat": 4,
  "nbformat_minor": 0,
  "metadata": {
    "colab": {
      "name": "107062274_HW3_Model.ipynb",
      "provenance": [],
      "collapsed_sections": [],
      "machine_shape": "hm"
    },
    "kernelspec": {
      "name": "python3",
      "display_name": "Python 3"
    },
    "accelerator": "GPU"
  },
  "cells": [
    {
      "cell_type": "markdown",
      "metadata": {
        "id": "UcN7USJvV1yx"
      },
      "source": [
        "## Go to directory"
      ]
    },
    {
      "cell_type": "code",
      "metadata": {
        "colab": {
          "base_uri": "https://localhost:8080/"
        },
        "id": "Vl5tH-FsEGPJ",
        "outputId": "5bc030ce-eb07-4628-c415-83c7e925f961"
      },
      "source": [
        "%cd /content/drive/MyDrive/Colab Notebooks/ML_NTHU_HW3"
      ],
      "execution_count": null,
      "outputs": [
        {
          "output_type": "stream",
          "text": [
            "/content/drive/MyDrive/Colab Notebooks/ML_NTHU_HW3\n"
          ],
          "name": "stdout"
        }
      ]
    },
    {
      "cell_type": "code",
      "metadata": {
        "colab": {
          "base_uri": "https://localhost:8080/"
        },
        "id": "3daO9YkhpCTA",
        "outputId": "72f9c73a-df24-4c28-8065-588cf6e898b5"
      },
      "source": [
        "!ls ./CATEGORIZED_IML_CXR_TRAIN/1 | wc -l\r\n",
        "!ls ./CATEGORIZED_IML_CXR_TRAIN/0 | wc -l"
      ],
      "execution_count": null,
      "outputs": [
        {
          "output_type": "stream",
          "text": [
            "164\n",
            "1229\n"
          ],
          "name": "stdout"
        }
      ]
    },
    {
      "cell_type": "markdown",
      "metadata": {
        "id": "s8aX5cICVNu1"
      },
      "source": [
        "## Setup lib"
      ]
    },
    {
      "cell_type": "code",
      "metadata": {
        "id": "-gty1egJ-oRz"
      },
      "source": [
        "import matplotlib.pyplot as plt\r\n",
        "import numpy as np\r\n",
        "import os\r\n",
        "import PIL\r\n",
        "import tensorflow as tf\r\n",
        "import pathlib\r\n",
        "\r\n",
        "from tensorflow import keras\r\n",
        "from tensorflow.keras import layers\r\n",
        "from tensorflow.keras.models import Sequential"
      ],
      "execution_count": null,
      "outputs": []
    },
    {
      "cell_type": "code",
      "metadata": {
        "colab": {
          "base_uri": "https://localhost:8080/"
        },
        "id": "ALALJEMFVdFk",
        "outputId": "36aaf301-978c-4b16-b0cc-5e29b06dba95"
      },
      "source": [
        "# %tensorflow_version 2.x\r\n",
        "# import tensorflow as tf\r\n",
        "# print(\"Tensorflow version \" + tf.__version__)\r\n",
        "\r\n",
        "# try:\r\n",
        "#   tpu = tf.distribute.cluster_resolver.TPUClusterResolver()  # TPU detection\r\n",
        "#   print('Running on TPU ', tpu.cluster_spec().as_dict()['worker'])\r\n",
        "# except ValueError:\r\n",
        "#   raise BaseException('ERROR: Not connected to a TPU runtime; please see the previous cell in this notebook for instructions!')\r\n",
        "\r\n",
        "# tf.config.experimental_connect_to_cluster(tpu)\r\n",
        "# tf.tpu.experimental.initialize_tpu_system(tpu)\r\n",
        "# tpu_strategy = tf.distribute.experimental.TPUStrategy(tpu)\r\n",
        "\r\n",
        "%tensorflow_version 2.x\r\n",
        "device_name = tf.test.gpu_device_name()\r\n",
        "if device_name != '/device:GPU:0':\r\n",
        "  raise SystemError('GPU device not found')\r\n",
        "print('Found GPU at: {}'.format(device_name))"
      ],
      "execution_count": null,
      "outputs": [
        {
          "output_type": "stream",
          "text": [
            "Found GPU at: /device:GPU:0\n"
          ],
          "name": "stdout"
        }
      ]
    },
    {
      "cell_type": "code",
      "metadata": {
        "id": "D5Mhb_p-Vfsc"
      },
      "source": [
        "from keras import backend as K\r\n",
        "\r\n",
        "def recall_m(y_true, y_pred):\r\n",
        "    true_positives = K.sum(K.round(K.clip(y_true * y_pred, 0, 1)))\r\n",
        "    possible_positives = K.sum(K.round(K.clip(y_true, 0, 1)))\r\n",
        "    recall = true_positives / (possible_positives + K.epsilon())\r\n",
        "    return recall\r\n",
        "\r\n",
        "def precision_m(y_true, y_pred):\r\n",
        "    true_positives = K.sum(K.round(K.clip(y_true * y_pred, 0, 1)))\r\n",
        "    predicted_positives = K.sum(K.round(K.clip(y_pred, 0, 1)))\r\n",
        "    precision = true_positives / (predicted_positives + K.epsilon())\r\n",
        "    return precision\r\n",
        "\r\n",
        "def f1_m(y_true, y_pred):\r\n",
        "    precision = precision_m(y_true, y_pred)\r\n",
        "    recall = recall_m(y_true, y_pred)\r\n",
        "    return 2*((precision*recall)/(precision+recall+K.epsilon()))"
      ],
      "execution_count": null,
      "outputs": []
    },
    {
      "cell_type": "markdown",
      "metadata": {
        "id": "p9v50nXxVVXA"
      },
      "source": [
        "## Load Data"
      ]
    },
    {
      "cell_type": "code",
      "metadata": {
        "colab": {
          "base_uri": "https://localhost:8080/"
        },
        "id": "y7hh-wugmrR0",
        "outputId": "4df96fe4-6e62-40c2-d7a3-03958ca2470e"
      },
      "source": [
        "!ls CATEGORIZED_IML_CXR_TRAIN/"
      ],
      "execution_count": null,
      "outputs": [
        {
          "output_type": "stream",
          "text": [
            "0  1\n"
          ],
          "name": "stdout"
        }
      ]
    },
    {
      "cell_type": "code",
      "metadata": {
        "colab": {
          "base_uri": "https://localhost:8080/"
        },
        "id": "5avnEl_1DWNy",
        "outputId": "3d8c7379-ee44-4e73-8b16-b99ef76ee02b"
      },
      "source": [
        "batch_size = 128\r\n",
        "IMG_SIZE = (320,320)\r\n",
        "seed_num = 77777\r\n",
        "# 53\r\n",
        "# 47 very good performance\r\n",
        "\r\n",
        "data_dir = 'CATEGORIZED_IML_CXR_TRAIN'\r\n",
        "\r\n",
        "train_dataset = tf.keras.preprocessing.image_dataset_from_directory(\r\n",
        "  data_dir,\r\n",
        "  validation_split=0,\r\n",
        "  # subset=\"training\",\r\n",
        "  seed=seed_num,\r\n",
        "  image_size=IMG_SIZE, \r\n",
        "  batch_size=batch_size)\r\n",
        "\r\n",
        "# validation_dataset = tf.keras.preprocessing.image_dataset_from_directory(\r\n",
        "#   data_dir,\r\n",
        "#   validation_split=0,\r\n",
        "#   subset=\"validation\",\r\n",
        "#   seed=seed_num,\r\n",
        "#   image_size=IMG_SIZE, \r\n",
        "#   batch_size=batch_size)\r\n",
        "\r\n",
        "class_names = train_dataset.class_names\r\n",
        "print(class_names)"
      ],
      "execution_count": null,
      "outputs": [
        {
          "output_type": "stream",
          "text": [
            "Found 1393 files belonging to 2 classes.\n",
            "['0', '1']\n"
          ],
          "name": "stdout"
        }
      ]
    },
    {
      "cell_type": "code",
      "metadata": {
        "id": "TRO_p3x5JRSu"
      },
      "source": [
        "AUTOTUNE = tf.data.experimental.AUTOTUNE\r\n",
        "\r\n",
        "train_dataset = train_dataset.prefetch(buffer_size=AUTOTUNE)\r\n",
        "# validation_dataset = validation_dataset.prefetch(buffer_size=AUTOTUNE)"
      ],
      "execution_count": null,
      "outputs": []
    },
    {
      "cell_type": "markdown",
      "metadata": {
        "id": "kc5psHnSVrrk"
      },
      "source": [
        "## Build Model"
      ]
    },
    {
      "cell_type": "code",
      "metadata": {
        "id": "M1_aLHL5eQmr"
      },
      "source": [
        "IMG_SHAPE = IMG_SIZE + (3,)\r\n",
        "base_model = keras.applications.DenseNet201(include_top=False, weights='imagenet', input_shape=IMG_SHAPE)\r\n",
        "\r\n",
        "fine_tune_at = -20\r\n",
        "\r\n",
        "for layer in base_model.layers[:fine_tune_at]:\r\n",
        "  layer.trainable = False\r\n",
        "inputs = keras.Input(shape=IMG_SHAPE)\r\n",
        "x = keras.applications.densenet.preprocess_input(inputs)\r\n",
        "x = keras.layers.experimental.preprocessing.RandomRotation((-0.01, 0.01))(x)\r\n",
        "x = base_model(x, training=False)\r\n",
        "x = keras.layers.Flatten()(x)\r\n",
        "x = keras.layers.Dense(512, activation='relu')(x)\r\n",
        "x = keras.layers.Dropout(0.5)(x)\r\n",
        "x = keras.layers.Dense(256, activation='relu')(x)\r\n",
        "x = keras.layers.Dropout(0.5)(x)\r\n",
        "x = keras.layers.Dense(64, activation='relu')(x)\r\n",
        "x = keras.layers.Dropout(0.4)(x)\r\n",
        "outputs = keras.layers.Dense(1, activation='sigmoid')(x) \r\n",
        "model = keras.Model(inputs, outputs)\r\n",
        "\r\n",
        "base_learning_rate = 0.000001 \r\n",
        "model.compile(optimizer=keras.optimizers.Adam(lr=base_learning_rate),\r\n",
        "              loss=keras.losses.BinaryCrossentropy(from_logits=False),\r\n",
        "              metrics=[f1_m])\r\n",
        "\r\n",
        "# model.summary()\r\n",
        "len(model.trainable_variables)\r\n",
        "\r\n",
        "initial_epochs = 150\r\n",
        "class_weight = {0: 0.1, 1: 0.9}\r\n",
        "history = model.fit(train_dataset,\r\n",
        "                    epochs=initial_epochs,\r\n",
        "                    # validation_data=validation_dataset, \r\n",
        "                    class_weight=class_weight)\r\n"
      ],
      "execution_count": null,
      "outputs": []
    },
    {
      "cell_type": "code",
      "metadata": {
        "id": "S36L9JmGznMa",
        "colab": {
          "base_uri": "https://localhost:8080/",
          "height": 422
        },
        "outputId": "b730d77e-82e6-40dc-f2d3-cee7521f632a"
      },
      "source": [
        "acc = history.history['f1_m']\r\n",
        "# val_acc = history.history['val_f1_m']\r\n",
        "\r\n",
        "loss = history.history['loss']\r\n",
        "# val_loss = history.history['val_loss']\r\n",
        "\r\n",
        "plt.figure(figsize=(20, 6))\r\n",
        "plt.subplot(1, 2, 1)\r\n",
        "plt.plot(acc, label='Training f1')\r\n",
        "# plt.plot(val_acc, label='Validation f1')\r\n",
        "plt.legend(loc='upper right')\r\n",
        "plt.ylabel('f1')\r\n",
        "plt.ylim([min(plt.ylim()),1])\r\n",
        "plt.title('Training and Validation f1')\r\n",
        "\r\n",
        "plt.subplot(1, 2, 2)\r\n",
        "plt.plot(loss, label='Training Loss')\r\n",
        "# plt.plot(val_loss, label='Validation Loss')\r\n",
        "plt.legend(loc='upper right')\r\n",
        "plt.ylabel('Cross Entropy')\r\n",
        "# plt.ylim([0,4.0])\r\n",
        "plt.title('Training and Validation Loss')\r\n",
        "plt.xlabel('epoch')\r\n",
        "plt.savefig('loss.png')\r\n",
        "plt.show()"
      ],
      "execution_count": null,
      "outputs": [
        {
          "output_type": "display_data",
          "data": {
            "image/png": "[encoded data removed]",
            "text/plain": [
              "<Figure size 1440x432 with 2 Axes>"
            ]
          },
          "metadata": {
            "tags": [],
            "needs_background": "light"
          }
        },
        {
          "output_type": "stream",
          "text": [
            "INFO:tensorflow:Assets written to: Code/img_model/assets\n"
          ],
          "name": "stdout"
        }
      ]
    },
    {
      "cell_type": "code",
      "metadata": {
        "id": "stKaiNV3brqv",
        "colab": {
          "base_uri": "https://localhost:8080/"
        },
        "outputId": "7a98edc4-5a1b-4ff0-a49c-15bcbd26a344"
      },
      "source": [
        "# prediction = model.predict(validation_dataset, verbose=1)\r\n",
        "# prediction = (prediction >= .5).astype(int)\r\n",
        "# print(prediction.shape)\r\n",
        "model.save('Code/img_model')"
      ],
      "execution_count": null,
      "outputs": [
        {
          "output_type": "stream",
          "text": [
            "INFO:tensorflow:Assets written to: Code/img_model/assets\n"
          ],
          "name": "stdout"
        }
      ]
    },
    {
      "cell_type": "markdown",
      "metadata": {
        "id": "h9lFCg54W9Qi"
      },
      "source": [
        "## Save Testing output for Model Image"
      ]
    },
    {
      "cell_type": "code",
      "metadata": {
        "id": "Jp1LjWZEXDx0"
      },
      "source": [
        "from tensorflow import keras\r\n",
        "from keras.preprocessing import image\r\n",
        "\r\n",
        "folder = 'IML_CXR_TEST/'\r\n",
        "folder2 = 'IML_CXR_TRAIN/'\r\n",
        "train_data = {'hospital_outcome':[], 'PATIENT ID':[]} \r\n",
        "data = []\r\n",
        "prediction1 = []\r\n",
        "for file in os.listdir(folder2):\r\n",
        "  # print(file)\r\n",
        "  test_image = image.load_img(folder2 + file, (320,320))\r\n",
        "  test_image = image.img_to_array(test_image)\r\n",
        "  test_image = np.expand_dims(test_image, axis=0)\r\n",
        "  data.append(test_image)\r\n",
        "  train_data['PATIENT ID'].append(int(file[:-4]))\r\n",
        "  # prediction1.append((model.predict(test_image) >= .5).astype(int))\r\n",
        "tfs = tf.concat(data, 0)\r\n",
        "prediction = model.predict(tfs)\r\n",
        "prediction = (prediction >= .5).astype(int)\r\n",
        "train_data['hospital_outcome'] = prediction"
      ],
      "execution_count": null,
      "outputs": []
    },
    {
      "cell_type": "code",
      "metadata": {
        "id": "jHMDK6eN44RS"
      },
      "source": [
        "a = np.array(prediction1).flatten().tolist()\r\n",
        "b = prediction.flatten().tolist()\r\n",
        "if a == b:\r\n",
        "  print('True')\r\n",
        "import pandas as pd\r\n",
        "train_data['hospital_outcome'] = b\r\n",
        "pred_img = pd.DataFrame.from_dict(train_data)[['PATIENT ID', 'hospital_outcome']] # pred_img = pd.DataFrame({'PATIENT ID': train_data['PATIENT ID'], 'hospital_outcome': b})\r\n",
        "# pred_img.sort_values(by=['PATIENT ID'], ascending=True).to_csv('Results/107062274.csv', index = False)\r\n",
        "pred_img.sort_values(by=['PATIENT ID'], ascending=True).to_csv('Additional Data/Train_IMG_PREDICT.csv', index = False)"
      ],
      "execution_count": null,
      "outputs": []
    }
  ]
}